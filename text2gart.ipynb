{
 "cells": [
  {
   "cell_type": "markdown",
   "metadata": {},
   "source": [
    "# Text2GART"
   ]
  },
  {
   "cell_type": "code",
   "execution_count": 1,
   "metadata": {},
   "outputs": [],
   "source": [
    "%load_ext autoreload\n",
    "%autoreload 2\n",
    "import os, os.path as osp\n",
    "from solver import TGFitter\n",
    "import torch\n",
    "from viz_utils import viz_human_all"
   ]
  },
  {
   "cell_type": "code",
   "execution_count": null,
   "metadata": {},
   "outputs": [],
   "source": [
    "from lib_guidance.mvdream.mvdream_guidance import MVDream\n",
    "\n",
    "# guidance = MVDream(torch.device(\"cuda\"), fp16=True, n_view=4, t_range=[0.02, 0.98]) # seems reduce 20% time\n",
    "guidance = MVDream(torch.device(\"cuda\"), fp16=False, n_view=4, t_range=[0.02, 0.98])"
   ]
  },
  {
   "cell_type": "code",
   "execution_count": 3,
   "metadata": {},
   "outputs": [],
   "source": [
    "texts = [\n",
    "    \"A yellow CyberPunk robot, silver skeleton\",\n",
    "    \"A frog character from a game\",\n",
    "    # \"A red Gundam Zaku, with a jet backpack\",\n",
    "    # \"A doctor in green surgical uniform\",\n",
    "    # \"A policeman in blue uniform\",\n",
    "    # \"A white humanoid robot from 23 century with red eyes\",\n",
    "    # \"A silver robot with single red eye like hal9000\",\n",
    "    # \"An energetic computer science professor, wit blue t-shirt, black jeans\",\n",
    "    # \"A knight with a sword on his hand\",\n",
    "    # \"Skywalker\",\n",
    "    # \"A pink cute ellipsoid robot\",\n",
    "    # \"Spiderman with batman suit\",\n",
    "    # \"A walking Banana\",\n",
    "    # \"A dinosaur\",\n",
    "    # \"A dog\",\n",
    "]"
   ]
  },
  {
   "cell_type": "code",
   "execution_count": null,
   "metadata": {},
   "outputs": [],
   "source": [
    "profile_fn = \"./profiles/text2gart/gen.yaml\"\n",
    "base_name = \"text2gart\"\n",
    "# # or you could try this, adding camera location near hands, but seems not that helpful\n",
    "# profile_fn = \"./profiles/text2gart/gen_hand.yaml\"\n",
    "# base_name = \"text2gart_hand_enhance\"\n",
    "\n",
    "os.makedirs(f\"./logs/{base_name}\", exist_ok=True)\n",
    "\n",
    "for txt in texts:\n",
    "    torch.cuda.empty_cache()\n",
    "    print(txt)\n",
    "    guidance.set_text_embeds(\n",
    "        [txt + \"; smooth texture, clean image, single subject image, black background\"],\n",
    "        [\n",
    "            \"ugly, bad anatomy, blurry, pixelated obscure, unnatural colors, poor lighting, dull, and unclear, lowres, low quality, artifacts, duplicate, morbid, mutilated, poorly drawn face, dehydrated, bad proportions\"\n",
    "        ],  # remove the cropped, deformed\n",
    "    )\n",
    "\n",
    "    log_id = len(os.listdir(f\"./logs/{base_name}\")) + 1\n",
    "    log_dir = f\"./logs/{base_name}/{log_id}_{txt}\"\n",
    "\n",
    "    solver = TGFitter(\n",
    "        log_dir=log_dir,\n",
    "        profile_fn=profile_fn,\n",
    "        mode=\"human\",\n",
    "        template_model_path=\"./data/smpl_model/SMPL_MALE.pkl\",\n",
    "        device=torch.device(\"cuda:0\"),\n",
    "        NO_TB=True,\n",
    "    )\n",
    "\n",
    "    data_provider = solver.prepare_fake_data(\n",
    "        mode=\"amass\",\n",
    "        pose_dirs=[\"./data/amass/BMLrub/\"],\n",
    "        da_pose_prob=0.0,\n",
    "    )\n",
    "\n",
    "    _, _ = solver.run(fake_data_provider=data_provider, guidance=guidance)\n",
    "    viz_human_all(solver, None, training_skip=1)"
   ]
  }
 ],
 "metadata": {
  "kernelspec": {
   "display_name": "tpg",
   "language": "python",
   "name": "python3"
  },
  "language_info": {
   "codemirror_mode": {
    "name": "ipython",
    "version": 3
   },
   "file_extension": ".py",
   "mimetype": "text/x-python",
   "name": "python",
   "nbconvert_exporter": "python",
   "pygments_lexer": "ipython3",
   "version": "3.9.18"
  }
 },
 "nbformat": 4,
 "nbformat_minor": 2
}
